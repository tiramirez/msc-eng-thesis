{
 "cells": [
  {
   "cell_type": "markdown",
   "metadata": {
    "colab_type": "text",
    "id": "KydhtglojKum"
   },
   "source": [
    "## Conectar Drive"
   ]
  },
  {
   "cell_type": "code",
   "execution_count": null,
   "metadata": {
    "colab": {
     "base_uri": "https://localhost:8080/",
     "height": 122
    },
    "colab_type": "code",
    "executionInfo": {
     "elapsed": 33886,
     "status": "ok",
     "timestamp": 1559535304669,
     "user": {
      "displayName": "Tomás Ignacio Ramírez Sarmiento",
      "photoUrl": "",
      "userId": "05662265536139639818"
     },
     "user_tz": 240
    },
    "id": "Szq3MjH7idZF",
    "outputId": "0061eb06-ad1b-4e92-abc1-59b6c22998bf"
   },
   "outputs": [],
   "source": [
    "# from google.colab import drive\n",
    "# drive.mount('/content/drive')"
   ]
  },
  {
   "cell_type": "code",
   "execution_count": null,
   "metadata": {
    "colab": {},
    "colab_type": "code",
    "id": "DqGFTnAIigcN"
   },
   "outputs": [],
   "source": [
    "# os.chdir('drive/My Drive/01 Magister/02 Encuesta')"
   ]
  },
  {
   "cell_type": "code",
   "execution_count": null,
   "metadata": {
    "colab": {
     "base_uri": "https://localhost:8080/",
     "height": 119
    },
    "colab_type": "code",
    "executionInfo": {
     "elapsed": 914,
     "status": "ok",
     "timestamp": 1559535433547,
     "user": {
      "displayName": "Tomás Ignacio Ramírez Sarmiento",
      "photoUrl": "",
      "userId": "05662265536139639818"
     },
     "user_tz": 240
    },
    "id": "2rPcQPioiiCq",
    "outputId": "869ea9e3-8997-4c15-c6f4-6be64bb37b0f"
   },
   "outputs": [],
   "source": [
    "# os.listdir()"
   ]
  }
 ],
 "metadata": {
  "language_info": {
   "name": "python"
  },
  "orig_nbformat": 4
 },
 "nbformat": 4,
 "nbformat_minor": 2
}
