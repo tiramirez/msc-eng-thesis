{
 "cells": [
  {
   "cell_type": "code",
   "execution_count": null,
   "metadata": {},
   "outputs": [],
   "source": [
    "\n",
    "import os\n",
    "import pandas as pd\n",
    "# from datetime import datetime\n",
    "# import sqlite3\n",
    "# import matplotlib.pyplot as plt\n",
    "import numpy as np\n",
    "# import ipaddress\n",
    "# import pygeoip"
   ]
  },
  {
   "cell_type": "markdown",
   "metadata": {
    "colab_type": "text",
    "id": "8j9MWd4KjRbg"
   },
   "source": [
    "## Prepara Data Frames Users y Answers"
   ]
  },
  {
   "cell_type": "code",
   "execution_count": null,
   "metadata": {},
   "outputs": [],
   "source": [
    "# connection = sqlite3.connect('site.db')\n",
    "# cursor = connection.cursor()\n",
    "\n",
    "# query = cursor.execute('''\n",
    "# SELECT *\n",
    "# FROM Users \n",
    "# ''')\n",
    "\n",
    "# connection.close()\n",
    "\n",
    "# headers = [column[0] for column in query.description]\n",
    "\n",
    "# users_df = pd.DataFrame(query.fetchall(), columns=headers)\n",
    "# users_df"
   ]
  },
  {
   "cell_type": "code",
   "execution_count": null,
   "metadata": {},
   "outputs": [],
   "source": [
    "# import geoip2.database\n",
    "# reader = geoip2.database.Reader('GeoLite2-City.mmdb')"
   ]
  },
  {
   "cell_type": "code",
   "execution_count": null,
   "metadata": {},
   "outputs": [],
   "source": [
    "# def get_continent(ip_str):\n",
    "# #     print(ip_str)\n",
    "#     try:\n",
    "#         response = reader.city(ip_str)\n",
    "#     except:\n",
    "#         continent = None\n",
    "#     else:\n",
    "#         continent = response.continent.name\n",
    "#     return continent\n",
    "\n",
    "# def get_country(ip_str):\n",
    "# #     print(ip_str)\n",
    "#     try:\n",
    "#         response = reader.city(ip_str)\n",
    "#     except:\n",
    "#         country = None\n",
    "#     else:\n",
    "#         country = response.country.name\n",
    "#     return country\n",
    "\n",
    "# def get_city(ip_str):\n",
    "# #     print(ip_str)\n",
    "#     try:\n",
    "#         response = reader.city(ip_str)\n",
    "#     except:\n",
    "#         city = None\n",
    "#     else:\n",
    "#         city = response.subdivisions.most_specific.name\n",
    "#     return city\n",
    "\n",
    "# users_df[\"ipbased_continent\"] = users_df[\"ip_address\"].apply(lambda x: get_continent(x))\n",
    "# users_df[\"ipbased_country\"] = users_df[\"ip_address\"].apply(lambda x: get_country(x))\n",
    "# users_df[\"ipbased_city\"] = users_df[\"ip_address\"].apply(lambda x: get_city(x))"
   ]
  },
  {
   "cell_type": "code",
   "execution_count": null,
   "metadata": {},
   "outputs": [],
   "source": [
    "# users_df = users_df.replace({'United States':'USA'})"
   ]
  },
  {
   "cell_type": "code",
   "execution_count": null,
   "metadata": {},
   "outputs": [],
   "source": [
    "# def check_country(ip_country, stated_country):\n",
    "# #     print(ip_str)\n",
    "#     if ip_country == None:\n",
    "#         return None\n",
    "#     elif ip_country == stated_country:\n",
    "#         return 'Valid'\n",
    "#     else:\n",
    "#         return 'Invalid'\n",
    "\n",
    "# users_df[\"check_country\"] = users_df.apply(lambda x: check_country(x.ipbased_country, x.country), axis=1)"
   ]
  },
  {
   "cell_type": "code",
   "execution_count": null,
   "metadata": {},
   "outputs": [],
   "source": [
    "# reader.close()"
   ]
  }
 ],
 "metadata": {
  "language_info": {
   "name": "python"
  },
  "orig_nbformat": 4
 },
 "nbformat": 4,
 "nbformat_minor": 2
}
